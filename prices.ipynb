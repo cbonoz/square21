{
 "cells": [
  {
   "cell_type": "code",
   "execution_count": 1,
   "id": "d35ef599-6fbb-4078-8f4f-21e1e25cc80f",
   "metadata": {},
   "outputs": [
    {
     "name": "stdout",
     "output_type": "stream",
     "text": [
      "Ready, using token:  EAAA**\n"
     ]
    }
   ],
   "source": [
    "import os\n",
    "from square.client import Client\n",
    "import numpy as np\n",
    "import matplotlib.pyplot as plt\n",
    "import math\n",
    "from scipy.optimize import curve_fit\n",
    "from pynverse import inversefunc\n",
    "\n",
    "SQUARE_TOKEN = os.getenv('SQUARE_TOKEN')\n",
    "if not SQUARE_TOKEN:\n",
    "    raise Exception('env variable SQUARE_TOKEN must be specified')\n",
    "    \n",
    "SQUARE_URL = 'https://connect.squareupsandbox.com'\n",
    "SQUARE_ENV = 'sandbox'\n",
    "\n",
    "# Alter these with your personal values on sandbox (or production).\n",
    "ITEM_NAME = \"Hamburger\" # Item of interest.\n",
    "LOCATION_ID = \"B8VMX6KBPRJAH\" # location ID for order query/creation.\n",
    "\n",
    "# For demo purposes, will create test customers/orders in your account. \n",
    "CREATE_CUSTOMERS = False\n",
    "CREATE_ORDERS = False\n",
    "\n",
    "print('Ready, using token: ', f\"{SQUARE_TOKEN[:4]}**\")"
   ]
  },
  {
   "cell_type": "code",
   "execution_count": 2,
   "id": "048135da-a2f4-40f6-bd05-36da851cb493",
   "metadata": {},
   "outputs": [],
   "source": [
    "client = Client(\n",
    "#             square_version='2021-10-20',\n",
    "            access_token=SQUARE_TOKEN,\n",
    "            environment=SQUARE_ENV)\n",
    "#             custom_url=SQUARE_URL,)\n"
   ]
  },
  {
   "cell_type": "code",
   "execution_count": 3,
   "id": "108e7ad9-6128-420c-a83a-07b1b0203435",
   "metadata": {},
   "outputs": [],
   "source": [
    "last_customer = {}\n",
    "\n",
    "if CREATE_CUSTOMERS:\n",
    "    from customer_generator import CustomerGenerator \n",
    "    customer_generator = CustomerGenerator(client)\n",
    "    \n",
    "    for i in range(1):\n",
    "        last_customer = customer_generator.create_customer(email_address=f\"test{i}@test.com\")\n",
    "    CREATE_CUSTOMERS = False\n"
   ]
  },
  {
   "cell_type": "code",
   "execution_count": 4,
   "id": "dd6791c2-9c14-4b7b-ba3f-fd0630e52ac5",
   "metadata": {},
   "outputs": [],
   "source": [
    "# Demo data to inject (these are different counts of sales at each given price point on an equivalent time interval, ex: 1 month)\n",
    "prices = [2.99, 3.99, 4.99, 5.99, 7.99]\n",
    "counts = [100, 50, 40, 20, 10]\n",
    "\n",
    "\n",
    "if CREATE_ORDERS:\n",
    "    from order_generator import OrderGenerator \n",
    "    order_generator = OrderGenerator(client)\n",
    "\n",
    "    order_generator.create_random_orders(ITEM_NAME, prices, counts, LOCATION_ID, last_customer.get('id', '7V212GE0DWVYB5RE6VB24HTZT0'))\n",
    "    CREATE_ORDERS = False\n",
    "    \n"
   ]
  },
  {
   "cell_type": "code",
   "execution_count": 5,
   "id": "1ecc46dc-8a5f-4b11-be6c-94d408061a52",
   "metadata": {},
   "outputs": [],
   "source": [
    "LIMIT = 10 # simulate an inf scenario without inf to avoid any issues with boundary condition.\n",
    "\n",
    "class ExponentialPricer:\n",
    "    \n",
    "    def __init__(self, client):\n",
    "        self.client = client\n",
    "        self.orders_api = client.orders\n",
    "\n",
    "    def get_sales_for_item(self, item_name, x=None, y=None): # can later add pagination\n",
    "        # x: price array.\n",
    "        # y: count/quantity sold corresponding to each price.\n",
    "        if x and y:\n",
    "            # Demo data\n",
    "            x = np.array([x[0]/LIMIT, *x, x[-1]*LIMIT])\n",
    "            y = np.array([y[0]*LIMIT, *y, y[-1]/LIMIT])\n",
    "            return x, y\n",
    "            \n",
    "        body = {}\n",
    "        # body['location_ids'] = ['057P5VYJ4A5X1', '18YC4JDH91E1H']\n",
    "        body['query'] = {}\n",
    "        body['query']['filter'] = {}\n",
    "        body['limit'] = 100\n",
    "        body['return_entries'] = True\n",
    "        body['location_ids'] = [LOCATION_ID]\n",
    "\n",
    "        result = self.orders_api.search_orders(body=body)\n",
    "        order_ids = [x['order_id'] for x in result.body['order_entries']]\n",
    "        \n",
    "        # https://github.com/square/square-python-sdk/blob/master/doc/api/orders.md#batch-retrieve-orders\n",
    "        # TODO: search on returned orders.\n",
    "        body={'order_ids': order_ids, 'location_ids': [LOCATION_ID]}\n",
    "        result = self.orders_api.batch_retrieve_orders(body=body, location_id=LOCATION_ID)\n",
    "\n",
    "        if result.is_error():\n",
    "            print(result.errors)\n",
    "            raise Exception(str(result.errors))\n",
    "        # TODO: iterate over quantity sold with particular item grouping by price\n",
    "        orders = [x for x in result.body['orders']]\n",
    "        print('Found orders', len(orders))#, orders) \n",
    "        \n",
    "        price_map = {}\n",
    "        customer_map = {}\n",
    "        for order in orders:\n",
    "            for item in order['line_items']:\n",
    "                if item['name'] == ITEM_NAME:\n",
    "                    usd_price = item['base_price_money']['amount']/100 # convert to dollars.\n",
    "                    qty = int(item['quantity'])\n",
    "                    print(f\"Found: {ITEM_NAME} {usd_price} {qty}\")\n",
    "                    if usd_price not in price_map:\n",
    "                        price_map[usd_price] = 0\n",
    "                    price_map[usd_price] += qty\n",
    "                    \n",
    "                    customer_id = item.get('customer_id', 'N/A')\n",
    "                    if usd_price not in customer_map:\n",
    "                        customer_map[usd_price] = set()\n",
    "                    customer_map[usd_price].add(customer_id)\n",
    "            \n",
    "        \n",
    "        # Create price and quantity lists.\n",
    "        x = []\n",
    "        y = []\n",
    "        for key, value in sorted(price_map.items(), key=lambda x: x[0]):\n",
    "            x.append(key)\n",
    "            y.append(value)\n",
    "            \n",
    "        x = np.array([x[0]/LIMIT, *x, x[-1]*LIMIT])\n",
    "        y = np.array([y[0]*LIMIT, *y, y[-1]/LIMIT])\n",
    "\n",
    "        return x, y, customer_map"
   ]
  },
  {
   "cell_type": "code",
   "execution_count": 6,
   "id": "98a0337e-537b-48d2-9dd3-095f982d3ad8",
   "metadata": {},
   "outputs": [],
   "source": [
    "pricer = ExponentialPricer(client)"
   ]
  },
  {
   "cell_type": "code",
   "execution_count": 7,
   "id": "64572156-2215-46f5-8df9-3f3fae4c7a58",
   "metadata": {},
   "outputs": [
    {
     "name": "stdout",
     "output_type": "stream",
     "text": [
      "Found orders 6\n",
      "Found: Hamburger 7.99 10\n",
      "Found: Hamburger 5.99 20\n",
      "Found: Hamburger 4.99 40\n",
      "Found: Hamburger 3.99 50\n",
      "Found: Hamburger 2.99 100\n"
     ]
    }
   ],
   "source": [
    "# x, y = pricer.get_sales_for_item(ITEM_NAME, prices, counts) # demo\n",
    "x, y, customer_map = pricer.get_sales_for_item(ITEM_NAME)"
   ]
  },
  {
   "cell_type": "code",
   "execution_count": 8,
   "id": "40a08adb-4492-4047-bac8-70362e17ed20",
   "metadata": {},
   "outputs": [
    {
     "name": "stdout",
     "output_type": "stream",
     "text": [
      "sales data [ 0.299  2.99   3.99   4.99   5.99   7.99  79.9  ] [1000.  100.   50.   40.   20.   10.    1.]\n",
      "coefficients [1.28519179e+03 8.75757981e-01 1.07058298e+01]\n"
     ]
    }
   ],
   "source": [
    "print('sales data', x, y)\n",
    "\n",
    "def func(x, a, b, c):\n",
    "    return a*np.exp(-b*x)+c\n",
    "\n",
    "popt, pcov = curve_fit(func, x, y, check_finite=False, p0=(1, 1e-6, 1))\n",
    "print(\"coefficients\", popt)"
   ]
  },
  {
   "cell_type": "code",
   "execution_count": 9,
   "id": "97bd2953-ae8a-47aa-a721-558732cd48ae",
   "metadata": {},
   "outputs": [
    {
     "data": {
      "image/png": "[encoded data removed]",
      "text/plain": [
       "<Figure size 1152x648 with 1 Axes>"
      ]
     },
     "metadata": {
      "needs_background": "light"
     },
     "output_type": "display_data"
    }
   ],
   "source": [
    "plt.figure(figsize=(16,9))\n",
    "plt.plot(x, y, 'ko', label=\"Sales Data\")\n",
    "plt.plot(x, func(x, *popt), 'r-', label=\"Price Curve\")\n",
    "# plt.xlim(0,10)\n",
    "plt.title(f\"{ITEM_NAME} sales vs. price\")\n",
    "plt.xlabel(\"Unit price ($)\")\n",
    "plt.ylabel(\"Unit sales\")\n",
    "\n",
    "plt.legend()\n",
    "plt.show()\n"
   ]
  },
  {
   "cell_type": "code",
   "execution_count": 10,
   "id": "9bbc78d8-fcfd-4e06-8b50-36c952a666ca",
   "metadata": {},
   "outputs": [
    {
     "name": "stdout",
     "output_type": "stream",
     "text": [
      "Units sold = 1285.19e^(-0.88x)+10.71, where x is the unit price in USD.\n",
      "103.22342413216109\n"
     ]
    }
   ],
   "source": [
    "def print_formula(a, b, c):\n",
    "    return f\"Units sold = {a:.2f}e^(-{b:.2f}x)+{c:.2f}, where x is the unit price in USD.\"\n",
    "\n",
    "equation = print_formula(*popt)\n",
    "print(equation)\n",
    "\n",
    "\n",
    "print(1285.19*np.exp(-.88*2.99)+10.7) # example calculation using $2.99.\n",
    "\n"
   ]
  },
  {
   "cell_type": "code",
   "execution_count": 11,
   "id": "e6f5dd17-3739-4155-8b9d-d1005dafd14c",
   "metadata": {},
   "outputs": [],
   "source": [
    "# Direct solution, but breaks down for small and very large values\n",
    "# def inverse(y, a, b, c):\n",
    "#     return -np.log((y-c)/a)/b\n",
    "\n",
    "# Numerical inverse\n",
    "sales_fit = lambda price: func(price, *popt)\n",
    "\n",
    "price_for_sale_count = lambda count: float(max(0, inversefunc(sales_fit, y_values=count)))"
   ]
  },
  {
   "cell_type": "code",
   "execution_count": 12,
   "id": "9dc468dd-9f32-49cb-b381-351b47f27284",
   "metadata": {},
   "outputs": [
    {
     "name": "stdout",
     "output_type": "stream",
     "text": [
      "$3.05\n"
     ]
    }
   ],
   "source": [
    "TEST_AMOUNT = 100 # Enter a value known from the order data as a sanity check. In the example, we had 100 sales at $2.99\n",
    "suggested_price = price_for_sale_count(TEST_AMOUNT)\n",
    "print(f\"${suggested_price:.2f}\")\n"
   ]
  },
  {
   "cell_type": "code",
   "execution_count": 13,
   "id": "f8141deb-2c11-4094-a9da-a0be657161a0",
   "metadata": {},
   "outputs": [],
   "source": [
    "from ipywidgets import interact, interactive, fixed, interact_manual\n",
    "from ipywidgets import IntSlider\n",
    "\n",
    "from IPython.display import display\n",
    "# print(x[0])"
   ]
  },
  {
   "cell_type": "code",
   "execution_count": 14,
   "id": "901147aa-53ab-4ef0-9cec-25ee55b00aee",
   "metadata": {},
   "outputs": [],
   "source": [
    "def print_recommendation(count):\n",
    "    res = price_for_sale_count(count)\n",
    "    print(f\"\\nTo sell {count} {ITEM_NAME}s in the time interval of the found orders,\\nthe recommended price is ${res:.2f}\\n\")\n",
    "    return res"
   ]
  },
  {
   "cell_type": "code",
   "execution_count": 15,
   "id": "5915f1b4-21c8-434c-b4a3-8e2435d72122",
   "metadata": {},
   "outputs": [
    {
     "name": "stdout",
     "output_type": "stream",
     "text": [
      "Price calculator:\n",
      "\n"
     ]
    },
    {
     "data": {
      "application/vnd.jupyter.widget-view+json": {
       "model_id": "1c655503cecb48f4bc11dee12e8c6f1b",
       "version_major": 2,
       "version_minor": 0
      },
      "text/plain": [
       "interactive(children=(IntSlider(value=0, description='count', max=1000), Output()), _dom_classes=('widget-inte…"
      ]
     },
     "metadata": {},
     "output_type": "display_data"
    }
   ],
   "source": [
    "print('Price calculator:\\n')\n",
    "\n",
    "w = interactive(print_recommendation, \n",
    "                count=IntSlider(min=0, max=y[0]))\n",
    "display(w)"
   ]
  },
  {
   "cell_type": "code",
   "execution_count": 16,
   "id": "4e6c85ae-3943-4eb6-8924-34942ebf6eaa",
   "metadata": {},
   "outputs": [
    {
     "data": {
      "image/png": "[encoded data removed]",
      "text/plain": [
       "<Figure size 432x288 with 1 Axes>"
      ]
     },
     "metadata": {
      "needs_background": "light"
     },
     "output_type": "display_data"
    }
   ],
   "source": [
    "# Understand how customers repeat or not repeat based on different price points in your data.\n",
    "\n",
    "def plot_customers_at_each_price_level(cust_map):\n",
    "    # cust_map: Map of prices to set of distinct customer ids purchasing at that price\n",
    "    price_levels = []\n",
    "    distinct_customers = []\n",
    "    for k,v in cust_map.items():\n",
    "        price_levels.append(f\"${k}\") # price.\n",
    "        distinct_customers.append(len(v)) # length of customer set.\n",
    "        \n",
    "    plt.bar(price_levels, distinct_customers)\n",
    "    plt.title(f\"Distinct customers vs. price ({ITEM_NAME})\")\n",
    "    new_list = range(math.floor(min(distinct_customers)), math.ceil(max(distinct_customers))+1)\n",
    "    plt.yticks(new_list)\n",
    "    plt.xlabel(\"Price point\")\n",
    "    plt.ylabel(\"Distinct customers\")\n",
    "\n",
    "    # plt.legend()\n",
    "    plt.show()\n",
    "\n",
    "plot_customers_at_each_price_level(customer_map)"
   ]
  },
  {
   "cell_type": "code",
   "execution_count": null,
   "id": "c7823fce-bd1a-4edd-ab34-ee5febb69a2b",
   "metadata": {},
   "outputs": [],
   "source": []
  },
  {
   "cell_type": "code",
   "execution_count": null,
   "id": "daa991ee-53de-4b5a-95ec-919241678238",
   "metadata": {},
   "outputs": [],
   "source": []
  }
 ],
 "metadata": {
  "kernelspec": {
   "display_name": "Python 3",
   "language": "python",
   "name": "python3"
  },
  "language_info": {
   "codemirror_mode": {
    "name": "ipython",
    "version": 3
   },
   "file_extension": ".py",
   "mimetype": "text/x-python",
   "name": "python",
   "nbconvert_exporter": "python",
   "pygments_lexer": "ipython3",
   "version": "3.7.12"
  }
 },
 "nbformat": 4,
 "nbformat_minor": 5
}
